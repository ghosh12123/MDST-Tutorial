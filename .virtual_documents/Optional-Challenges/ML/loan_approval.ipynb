


# You may include any package you deem fit. We sugggest looking into Scikit-learn
import pandas as pd





# DO NOT MODIFY
loan_data = pd.read_csv("../../data/loan_approval.csv")






import matplotlib.pyplot as plt

# ------ Display basic information ------
print(loan_data.columns)
#print(loan_data.describe())

# ------ Check for missing values ------
#print(loan_data.isnull().sum())

# ------ Visualize the distribution of loan status ------
#loan_status_counts = loan_data['loan_status'].value_counts()
#plt.bar(loan_status_counts.index, loan_status_counts.values)
#plt.title('Distribution of Loan Status')
#plt.xlabel('Loan Status')
#plt.ylabel('Count')

# ------ Visualize the distribution of numerical features ------ 
#loan_data.hist(bins=30, figsize=(20, 15))

# ------ Correlation matrix ------

corr_matrix = loan_data.drop(columns=['education','self_employed','loan_status']).corr()
fig, ax = plt.subplots(figsize=(10, 8))
cax = ax.matshow(corr_matrix, cmap='coolwarm')
fig.colorbar(cax)
plt.xticks(range(len(corr_matrix.columns)), corr_matrix.columns, rotation=90)
plt.yticks(range(len(corr_matrix.columns)), corr_matrix.columns)
plt.plot()
# ----- MORE (Encouraged but not required) ------
# TODO 


# Check for Multicollinearity
from statsmodels.stats.outliers_influence import variance_inflation_factor

X = loan_data.drop(columns=['loan_status', 'education', 'self_employed'])

vif_data = pd.DataFrame()
vif_data["feature"] = X.columns
vif_data["VIF"] = [variance_inflation_factor(X.values, i) 
                   for i in range(len(X.columns))]

print(vif_data.sort_values(by="VIF", ascending=False))


loan_data['loan_to_income'] = loan_data['loan_amount'] / loan_data['income_annum']
loan_data['luxury_assets_to_income'] = loan_data['luxury_assets_value'] / loan_data['income_annum']

loan_data = loan_data.drop(columns=['loan_amount','income_annum','luxury_assets_value'])





loan_data['education'] = loan_data['education'].map({'Graduate': 1, 'Not Graduate': 0})
loan_data['self_employed'] = loan_data['self_employed'].map({'Yes': 1, 'No': 0})
loan_data['loan_status'] = loan_data['loan_status'].map({'Approved': 1, 'Rejected': 0})

# Hint: Other categorical variables are self_employed and loan_status
# TODO





# TODO
from sklearn.model_selection import train_test_split
from sklearn.linear_model import LogisticRegression
from sklearn.preprocessing import StandardScaler
from sklearn.metrics import confusion_matrix, classification_report


X = loan_data.drop(columns=['loan_status'])
y = loan_data['loan_status']





X_train, X_test, y_train, y_test = train_test_split(
    X, y, test_size=0.2, random_state=42)

scaler = StandardScaler()
X_train_scaled = scaler.fit_transform(X_train)
X_test_scaled = scaler.transform(X_test)

model = LogisticRegression()
model.fit(X_train_scaled, y_train)

y_pred = model.predict(X_test_scaled)

print("Confusion Matrix:\n", confusion_matrix(y_test, y_pred))
print("\nClassification Report:\n", classification_report(y_test, y_pred))





from sklearn.model_selection import GridSearchCV

param_grid = [
    {'penalty': ['l1'], 'C': [0.01, 0.1, 1, 10], 'solver': ['liblinear']}, 
    {'penalty': ['l2'], 'C': [0.01, 0.1, 1, 10], 'solver': ['liblinear', 'lbfgs']}  
]

grid = GridSearchCV(LogisticRegression(), param_grid, cv=5, scoring='accuracy')
grid.fit(X_train_scaled, y_train)

print("Best params:", grid.best_params_)

best_model = grid.best_estimator_
best_model.fit(X_train_scaled, y_train)

y_pred_best = best_model.predict(X_test_scaled)

print("\nConfusion Matrix:\n", confusion_matrix(y_test, y_pred_best))
print("\nClassification Report:\n", classification_report(y_test, y_pred_best))
