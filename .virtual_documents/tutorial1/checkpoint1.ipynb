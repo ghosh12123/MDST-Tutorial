











# Importing Libraries
import pandas as pd
import numpy as np
import matplotlib.pyplot as plt





# Read "states_edu.csv"
states_edu = pd.read_csv("states_edu.csv")
states_edu.head()








non_states = ['DODEA', 'NATIONAL', 'DISTRICT_OF_COLUMBIA']
states_edu = states_edu[~states_edu["STATE"].isin(non_states)]

states_edu["ENROLL"] = states_edu["ENROLL"].fillna(states_edu["GRADES_ALL_G"])











# @@@ 1
unique_years = states_edu["YEAR"].unique()
print(len(unique_years))





# @@@ 2
michigan_avg = round(states_edu.loc[states_edu["STATE"] == "MICHIGAN", "AVG_MATH_4_SCORE"].mean(),2)
ohio_avg = round(states_edu.loc[states_edu["STATE"] == "OHIO", "AVG_MATH_4_SCORE"].mean(),2)

print("Average grade 4 math score in Michigan:", michigan_avg)
print("Average grade 4 math score in Ohio:", ohio_avg)





# @@@ 3
all_states_avg = states_edu.loc[states_edu["YEAR"] == 2019, "AVG_MATH_4_SCORE"].mean()
print(all_states_avg)





# @@@ 4
max_scores_per_state = states_edu.groupby("STATE")["AVG_MATH_4_SCORE"].max()
print(max_scores_per_state)








first_year_expenditure = states_edu.loc[states_edu["TOTAL_EXPENDITURE"].notna(), "YEAR"].min()
last_year_expenditure  = states_edu.loc[states_edu["TOTAL_EXPENDITURE"].notna(), "YEAR"].max()

print("First year expenditure is recorded:", first_year_expenditure)
print("Last year expenditure is recorded:", last_year_expenditure)


states_edu = states_edu[(states_edu["YEAR"] >= 1992) & (states_edu["YEAR"] <= 2016)]
states_edu["TOTAL_EXPENDITURE"].isna().sum()


# @@@ 5
states_edu["EXPENDITURE_PER_STUDENT"] = states_edu["TOTAL_EXPENDITURE"] / states_edu["ENROLL"]








# @@@ 6
plt.scatter(states_edu["EXPENDITURE_PER_STUDENT"], states_edu["AVG_MATH_4_SCORE"])

plt.title("Expenditure Per-Student vs. 4th Grade Math Scores")
plt.xlabel("Expenditure per Student")
plt.ylabel("Average Grade 4 Math Score")
plt.show()








# @@@ 7
yearly_math4_avg = states_edu.dropna().groupby("YEAR")["AVG_MATH_4_SCORE"].mean().plot()

plt.title("4th Grade Math Score Over Time")
plt.xlabel("Year")
plt.ylabel("Average Grade 4 Math Score")
plt.show()





import seaborn as sns

numeric = states_edu.select_dtypes(include=np.number)
corr_math4 = numeric.corr()[["AVG_MATH_4_SCORE"]].sort_values(by="AVG_MATH_4_SCORE", ascending=False)

plt.figure(figsize=(4,8))
sns.heatmap(corr_math4)
plt.title("Correlation with Average Math 4 Scores")
plt.show()





from sklearn.model_selection import train_test_split


# @@@ 8

X = states_edu[["EXPENDITURE_PER_STUDENT", "AVG_MATH_8_SCORE", "YEAR"]].dropna()
y = states_edu.loc[X.index, "AVG_MATH_4_SCORE"]


# @@@ 9 

X_train, X_test, y_train, y_test = train_test_split(
     X, y, test_size=0.2, random_state=42)








# @@@ 10
# import your sklearn class here
from sklearn.linear_model import LinearRegression


# @@@ 11
# create your model here
model = LinearRegression()


model.fit(X_train, y_train)


y_pred = model.predict(X_test)








# @@@ 12
from sklearn.metrics import mean_squared_error, mean_absolute_error, r2_score

mse = mean_squared_error(y_test, y_pred)
rmse = np.sqrt(mse)
r2 = r2_score(y_test, y_pred)

print("Mean Squared Error:", mse)
print("Root Mean Squared Error:", rmse)
print("R-squared:", r2)


import statsmodels.api as sm

X_train_sm = sm.add_constant(X_train)  
model_ols = sm.OLS(y_train, X_train_sm).fit()
print(model_ols.summary())





# @@@ 13

pred1 = X_train['EXPENDITURE_PER_STUDENT']

f = plt.figure(figsize=(12,6))
plt.scatter(pred1, y_train, color = "red")
plt.scatter(pred1, model.predict(X_train), color = "green")

plt.legend(['True Training','Predicted Training'])
plt.xlabel('EXPENDITURE_PER_STUDENT')
plt.ylabel('AVG_MATH_4_SCORE')
plt.title("Model Behavior On Training Set")


# @@@ 14

pred2 = X_train['AVG_MATH_8_SCORE']

f = plt.figure(figsize=(12,6))
plt.scatter(pred2, y_train, color = "red")
plt.scatter(pred2, model.predict(X_train), color = "green")

plt.legend(['True Training','Predicted Training'])
plt.xlabel('AVG_MATH_8_SCORE')
plt.ylabel('AVG_MATH_4_SCORE')
plt.title("Model Behavior On Training Set")
